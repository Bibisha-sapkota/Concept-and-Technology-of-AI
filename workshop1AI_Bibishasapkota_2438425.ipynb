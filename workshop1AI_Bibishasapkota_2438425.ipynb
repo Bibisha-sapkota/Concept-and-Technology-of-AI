{
  "nbformat": 4,
  "nbformat_minor": 0,
  "metadata": {
    "colab": {
      "provenance": []
    },
    "kernelspec": {
      "name": "python3",
      "display_name": "Python 3"
    },
    "language_info": {
      "name": "python"
    }
  },
  "cells": [
    {
      "cell_type": "code",
      "execution_count": null,
      "metadata": {
        "colab": {
          "base_uri": "https://localhost:8080/"
        },
        "id": "fYUrYzf6dyrM",
        "outputId": "943d1fb1-9fcb-458c-9ef3-0e458745260b"
      },
      "outputs": [
        {
          "output_type": "execute_result",
          "data": {
            "text/plain": [
              "(2, 4)"
            ]
          },
          "metadata": {},
          "execution_count": 13
        }
      ],
      "source": [
        "import numpy as np\n",
        "a = np.array([[1,2,3,4],[2,3,4,5]])\n",
        "a.shape\n",
        "\n",
        "\n"
      ]
    },
    {
      "cell_type": "code",
      "source": [
        "\n",
        "a = np.arrange(6).reshape(2,3)"
      ],
      "metadata": {
        "id": "K6Z2Mrp6feXm"
      },
      "execution_count": null,
      "outputs": []
    },
    {
      "cell_type": "markdown",
      "source": [
        "python is more faster than nmpy , if sample size is more at that case numpy is grater\n",
        "3d==tensor\n"
      ],
      "metadata": {
        "id": "OREcfqwdg1Hl"
      }
    },
    {
      "cell_type": "code",
      "source": [
        "a = np.zeros((2,3))\n",
        "a"
      ],
      "metadata": {
        "colab": {
          "base_uri": "https://localhost:8080/"
        },
        "id": "lmVewHA4ht2r",
        "outputId": "cd1ea11a-813d-466a-b04b-9ee255809a03"
      },
      "execution_count": null,
      "outputs": [
        {
          "output_type": "execute_result",
          "data": {
            "text/plain": [
              "array([[0., 0., 0.],\n",
              "       [0., 0., 0.]])"
            ]
          },
          "metadata": {},
          "execution_count": 15
        }
      ]
    },
    {
      "cell_type": "code",
      "source": [
        "b = np.ones((2,3))\n",
        "b"
      ],
      "metadata": {
        "colab": {
          "base_uri": "https://localhost:8080/"
        },
        "id": "fmZ9Tu18ivOX",
        "outputId": "01e610f4-2a15-4547-d7f6-468b56013a72"
      },
      "execution_count": null,
      "outputs": [
        {
          "output_type": "execute_result",
          "data": {
            "text/plain": [
              "array([[1., 1., 1.],\n",
              "       [1., 1., 1.]])"
            ]
          },
          "metadata": {},
          "execution_count": 16
        }
      ]
    },
    {
      "cell_type": "code",
      "source": [
        "a = np.array([[1,6,7,8],[6,7,8,9]])\n",
        "a"
      ],
      "metadata": {
        "colab": {
          "base_uri": "https://localhost:8080/"
        },
        "id": "LlYmncmtjM_1",
        "outputId": "c7d35bdc-3e51-42d5-bf44-134a0e9d0cbe"
      },
      "execution_count": null,
      "outputs": [
        {
          "output_type": "execute_result",
          "data": {
            "text/plain": [
              "array([[1, 6, 7, 8],\n",
              "       [6, 7, 8, 9]])"
            ]
          },
          "metadata": {},
          "execution_count": 17
        }
      ]
    },
    {
      "cell_type": "code",
      "source": [
        "b = np.array([[3,4,5,6],[5,6,7,8]])\n",
        "b"
      ],
      "metadata": {
        "colab": {
          "base_uri": "https://localhost:8080/"
        },
        "id": "F2BBKo9YkBjN",
        "outputId": "9e63b941-88b2-45b6-9573-7a8dc075c363"
      },
      "execution_count": null,
      "outputs": [
        {
          "output_type": "execute_result",
          "data": {
            "text/plain": [
              "array([[3, 4, 5, 6],\n",
              "       [5, 6, 7, 8]])"
            ]
          },
          "metadata": {},
          "execution_count": 19
        }
      ]
    },
    {
      "cell_type": "code",
      "source": [
        "d = np.concatenate((a,b), axis=1)\n",
        "d"
      ],
      "metadata": {
        "colab": {
          "base_uri": "https://localhost:8080/"
        },
        "id": "_4jLYo6ykHiE",
        "outputId": "f214511d-49f4-46bb-81a1-c08ddfcace35"
      },
      "execution_count": null,
      "outputs": [
        {
          "output_type": "execute_result",
          "data": {
            "text/plain": [
              "array([[1, 6, 7, 8, 3, 4, 5, 6],\n",
              "       [6, 7, 8, 9, 5, 6, 7, 8]])"
            ]
          },
          "metadata": {},
          "execution_count": 22
        }
      ]
    },
    {
      "cell_type": "markdown",
      "source": [
        "#another way of concatenate\n",
        "d = np.stack((a,b), axis=1)\n",
        "d"
      ],
      "metadata": {
        "id": "-VnKrbXhl4O8"
      }
    },
    {
      "cell_type": "code",
      "source": [
        "d = np.vstack((a,b))\n",
        "d"
      ],
      "metadata": {
        "colab": {
          "base_uri": "https://localhost:8080/"
        },
        "id": "FJRhgYFVmZ4Z",
        "outputId": "74012a7d-ae63-4ec7-cb47-db3dabaa37b2"
      },
      "execution_count": null,
      "outputs": [
        {
          "output_type": "execute_result",
          "data": {
            "text/plain": [
              "array([[1, 6, 7, 8],\n",
              "       [6, 7, 8, 9],\n",
              "       [3, 4, 5, 6],\n",
              "       [5, 6, 7, 8]])"
            ]
          },
          "metadata": {},
          "execution_count": 25
        }
      ]
    },
    {
      "cell_type": "code",
      "source": [
        "d = np.hstack((a,b))\n",
        "d"
      ],
      "metadata": {
        "colab": {
          "base_uri": "https://localhost:8080/"
        },
        "id": "VKBi6ZyZmyQG",
        "outputId": "5904dcc2-f63b-4923-f209-4142341e45fc"
      },
      "execution_count": null,
      "outputs": [
        {
          "output_type": "execute_result",
          "data": {
            "text/plain": [
              "array([[1, 6, 7, 8, 3, 4, 5, 6],\n",
              "       [6, 7, 8, 9, 5, 6, 7, 8]])"
            ]
          },
          "metadata": {},
          "execution_count": 26
        }
      ]
    },
    {
      "cell_type": "markdown",
      "source": [
        "###                                                                                                                                                     Worksheet1"
      ],
      "metadata": {
        "id": "e3YDJZ4QtArs"
      }
    },
    {
      "cell_type": "code",
      "source": [
        "#Initialize an empty array with size 2X2.\n",
        "a = np.zeros((2,2))\n",
        "a"
      ],
      "metadata": {
        "colab": {
          "base_uri": "https://localhost:8080/"
        },
        "id": "Ik6Z6sgAm2jH",
        "outputId": "974df8b3-0f2f-4b95-fb0f-bb236f366e38"
      },
      "execution_count": null,
      "outputs": [
        {
          "output_type": "execute_result",
          "data": {
            "text/plain": [
              "array([[0., 0.],\n",
              "       [0., 0.]])"
            ]
          },
          "metadata": {},
          "execution_count": 28
        }
      ]
    },
    {
      "cell_type": "code",
      "source": [
        "#2. Initialize an all one array with size 4X2.\n",
        "a = np.ones((4,2))\n",
        "a"
      ],
      "metadata": {
        "colab": {
          "base_uri": "https://localhost:8080/"
        },
        "id": "54JMbuthtN13",
        "outputId": "20f29f9a-d007-43da-d3fb-c71d85f2bd4e"
      },
      "execution_count": null,
      "outputs": [
        {
          "output_type": "execute_result",
          "data": {
            "text/plain": [
              "array([[1., 1.],\n",
              "       [1., 1.],\n",
              "       [1., 1.],\n",
              "       [1., 1.]])"
            ]
          },
          "metadata": {},
          "execution_count": 30
        }
      ]
    },
    {
      "cell_type": "code",
      "source": [],
      "metadata": {
        "id": "e3kNjTr_tc0b"
      },
      "execution_count": null,
      "outputs": []
    },
    {
      "cell_type": "code",
      "source": [],
      "metadata": {
        "id": "SVQGBAHvtqHT"
      },
      "execution_count": null,
      "outputs": []
    },
    {
      "cell_type": "code",
      "source": [
        "#3. Return a new array of given shape and type, filled with fill value.{Hint: np.full}\n",
        "a = np.full((3,2),5)\n",
        "a\n"
      ],
      "metadata": {
        "colab": {
          "base_uri": "https://localhost:8080/"
        },
        "id": "gn2TwZDRvHcg",
        "outputId": "443eba5b-8da8-4b4d-9abc-80bc90baf4e3"
      },
      "execution_count": null,
      "outputs": [
        {
          "output_type": "execute_result",
          "data": {
            "text/plain": [
              "array([[5, 5],\n",
              "       [5, 5],\n",
              "       [5, 5]])"
            ]
          },
          "metadata": {},
          "execution_count": 47
        }
      ]
    },
    {
      "cell_type": "code",
      "source": [
        "#4. Return a new array of zeros with same shape and type as a given array.{Hint: np.zeros like}\n",
        "a = np.zeros_like((4,2))\n",
        "a"
      ],
      "metadata": {
        "colab": {
          "base_uri": "https://localhost:8080/"
        },
        "id": "hFJ-hCaUv38Z",
        "outputId": "324130b7-f730-420b-c425-5e78ac2f52a1"
      },
      "execution_count": null,
      "outputs": [
        {
          "output_type": "execute_result",
          "data": {
            "text/plain": [
              "array([0, 0])"
            ]
          },
          "metadata": {},
          "execution_count": 50
        }
      ]
    },
    {
      "cell_type": "code",
      "source": [
        "#5. Return a new array of ones with same shape and type as a given array.{Hint: np.ones like}\n",
        "a = np.ones_like((4,2))\n",
        "a"
      ],
      "metadata": {
        "colab": {
          "base_uri": "https://localhost:8080/"
        },
        "id": "4-rBVslCwKuI",
        "outputId": "76893ce0-496f-40b8-e826-f0d7b9f7f70a"
      },
      "execution_count": null,
      "outputs": [
        {
          "output_type": "execute_result",
          "data": {
            "text/plain": [
              "array([1, 1])"
            ]
          },
          "metadata": {},
          "execution_count": 51
        }
      ]
    },
    {
      "cell_type": "code",
      "source": [
        "#6. For an existing list new_list = [1,2,3,4] convert to an numpy array.{Hint: np.array()}\n",
        "new_list = np.array([[1,2,3,4]])\n",
        "new_list"
      ],
      "metadata": {
        "colab": {
          "base_uri": "https://localhost:8080/"
        },
        "id": "Wcx0SfGJwRQJ",
        "outputId": "ef18bcde-0a3a-4ae0-bf61-bccd9d174275"
      },
      "execution_count": null,
      "outputs": [
        {
          "output_type": "execute_result",
          "data": {
            "text/plain": [
              "array([[1, 2, 3, 4]])"
            ]
          },
          "metadata": {},
          "execution_count": 53
        }
      ]
    },
    {
      "cell_type": "code",
      "source": [
        "#Array Manipulation: Numerical Ranges and Array indexing:"
      ],
      "metadata": {
        "id": "Zwha0-tmwvpN"
      },
      "execution_count": null,
      "outputs": []
    },
    {
      "cell_type": "code",
      "source": [
        "#1. Create an array with values ranging from 10 to 49. {Hint:np.arrange()}.\n",
        "n = np.arange(1,50)\n",
        "n"
      ],
      "metadata": {
        "colab": {
          "base_uri": "https://localhost:8080/"
        },
        "id": "pdw5Ilz8yksS",
        "outputId": "edc9f97a-a29b-415d-92f9-f2efb36da590"
      },
      "execution_count": null,
      "outputs": [
        {
          "output_type": "execute_result",
          "data": {
            "text/plain": [
              "array([ 1,  2,  3,  4,  5,  6,  7,  8,  9, 10, 11, 12, 13, 14, 15, 16, 17,\n",
              "       18, 19, 20, 21, 22, 23, 24, 25, 26, 27, 28, 29, 30, 31, 32, 33, 34,\n",
              "       35, 36, 37, 38, 39, 40, 41, 42, 43, 44, 45, 46, 47, 48, 49])"
            ]
          },
          "metadata": {},
          "execution_count": 55
        }
      ]
    },
    {
      "cell_type": "code",
      "source": [
        "#2. Create a 3X3 matrix with values ranging from 0 to 8.\n",
        "a = np.array([[[1,6,7],[6,7,8],[4,5,6]]])\n",
        "a.reshape(3,3)"
      ],
      "metadata": {
        "colab": {
          "base_uri": "https://localhost:8080/"
        },
        "id": "RiYimhuCzQyK",
        "outputId": "75d0a518-abdb-48e5-bfbb-37f804e166c5"
      },
      "execution_count": null,
      "outputs": [
        {
          "output_type": "execute_result",
          "data": {
            "text/plain": [
              "array([[1, 6, 7],\n",
              "       [6, 7, 8],\n",
              "       [4, 5, 6]])"
            ]
          },
          "metadata": {},
          "execution_count": 64
        }
      ]
    },
    {
      "cell_type": "code",
      "source": [
        "#3. Create a 3X3 identity matrix.{Hint:np.eye()}\n",
        "a = np.eye\n",
        "a"
      ],
      "metadata": {
        "colab": {
          "base_uri": "https://localhost:8080/",
          "height": 186
        },
        "id": "u50W37A_0lAZ",
        "outputId": "6798ee0f-8c78-4c0b-948e-25299241f104"
      },
      "execution_count": null,
      "outputs": [
        {
          "output_type": "execute_result",
          "data": {
            "text/plain": [
              "<function numpy.eye(N, M=None, k=0, dtype=<class 'float'>, order='C', *, like=None)>"
            ],
            "text/html": [
              "<div style=\"max-width:800px; border: 1px solid var(--colab-border-color);\"><style>\n",
              "      pre.function-repr-contents {\n",
              "        overflow-x: auto;\n",
              "        padding: 8px 12px;\n",
              "        max-height: 500px;\n",
              "      }\n",
              "\n",
              "      pre.function-repr-contents.function-repr-contents-collapsed {\n",
              "        cursor: pointer;\n",
              "        max-height: 100px;\n",
              "      }\n",
              "    </style>\n",
              "    <pre style=\"white-space: initial; background:\n",
              "         var(--colab-secondary-surface-color); padding: 8px 12px;\n",
              "         border-bottom: 1px solid var(--colab-border-color);\"><b>numpy.eye</b><br/>def eye(N, M=None, k=0, dtype=float, order=&#x27;C&#x27;, *, like=None)</pre><pre class=\"function-repr-contents function-repr-contents-collapsed\" style=\"\"><a class=\"filepath\" style=\"display:none\" href=\"#\">/usr/local/lib/python3.10/dist-packages/numpy/lib/twodim_base.py</a>Return a 2-D array with ones on the diagonal and zeros elsewhere.\n",
              "\n",
              "Parameters\n",
              "----------\n",
              "N : int\n",
              "  Number of rows in the output.\n",
              "M : int, optional\n",
              "  Number of columns in the output. If None, defaults to `N`.\n",
              "k : int, optional\n",
              "  Index of the diagonal: 0 (the default) refers to the main diagonal,\n",
              "  a positive value refers to an upper diagonal, and a negative value\n",
              "  to a lower diagonal.\n",
              "dtype : data-type, optional\n",
              "  Data-type of the returned array.\n",
              "order : {&#x27;C&#x27;, &#x27;F&#x27;}, optional\n",
              "    Whether the output should be stored in row-major (C-style) or\n",
              "    column-major (Fortran-style) order in memory.\n",
              "\n",
              "    .. versionadded:: 1.14.0\n",
              "like : array_like, optional\n",
              "    Reference object to allow the creation of arrays which are not\n",
              "    NumPy arrays. If an array-like passed in as ``like`` supports\n",
              "    the ``__array_function__`` protocol, the result will be defined\n",
              "    by it. In this case, it ensures the creation of an array object\n",
              "    compatible with that passed in via this argument.\n",
              "\n",
              "    .. versionadded:: 1.20.0\n",
              "\n",
              "Returns\n",
              "-------\n",
              "I : ndarray of shape (N,M)\n",
              "  An array where all elements are equal to zero, except for the `k`-th\n",
              "  diagonal, whose values are equal to one.\n",
              "\n",
              "See Also\n",
              "--------\n",
              "identity : (almost) equivalent function\n",
              "diag : diagonal 2-D array from a 1-D array specified by the user.\n",
              "\n",
              "Examples\n",
              "--------\n",
              "&gt;&gt;&gt; np.eye(2, dtype=int)\n",
              "array([[1, 0],\n",
              "       [0, 1]])\n",
              "&gt;&gt;&gt; np.eye(3, k=1)\n",
              "array([[0.,  1.,  0.],\n",
              "       [0.,  0.,  1.],\n",
              "       [0.,  0.,  0.]])</pre>\n",
              "      <script>\n",
              "      if (google.colab.kernel.accessAllowed && google.colab.files && google.colab.files.view) {\n",
              "        for (const element of document.querySelectorAll('.filepath')) {\n",
              "          element.style.display = 'block'\n",
              "          element.onclick = (event) => {\n",
              "            event.preventDefault();\n",
              "            event.stopPropagation();\n",
              "            google.colab.files.view(element.textContent, 158);\n",
              "          };\n",
              "        }\n",
              "      }\n",
              "      for (const element of document.querySelectorAll('.function-repr-contents')) {\n",
              "        element.onclick = (event) => {\n",
              "          event.preventDefault();\n",
              "          event.stopPropagation();\n",
              "          element.classList.toggle('function-repr-contents-collapsed');\n",
              "        };\n",
              "      }\n",
              "      </script>\n",
              "      </div>"
            ]
          },
          "metadata": {},
          "execution_count": 66
        }
      ]
    },
    {
      "cell_type": "code",
      "source": [
        "#4 Create a random array of size 30 and find the mean of the array.\n",
        "a = np.random.random(30)\n",
        "b = a.mean()\n",
        "b"
      ],
      "metadata": {
        "colab": {
          "base_uri": "https://localhost:8080/"
        },
        "id": "dqceyUso1MFV",
        "outputId": "f9e36cf4-9877-413f-e3c3-340dfb153852"
      },
      "execution_count": null,
      "outputs": [
        {
          "output_type": "execute_result",
          "data": {
            "text/plain": [
              "0.5436557666954693"
            ]
          },
          "metadata": {},
          "execution_count": 71
        }
      ]
    },
    {
      "cell_type": "code",
      "source": [
        "#5. Create a 10X10 array with random values and find the minimum and maximum values.\n",
        "a = np.random.random((10,10))\n",
        "b=a.min()\n",
        "c=a.max()\n",
        "print(b,c)"
      ],
      "metadata": {
        "colab": {
          "base_uri": "https://localhost:8080/"
        },
        "id": "4v47hcNg2IAU",
        "outputId": "aca715b9-a64c-4996-9337-6c5d083bd2ad"
      },
      "execution_count": null,
      "outputs": [
        {
          "output_type": "stream",
          "name": "stdout",
          "text": [
            "0.0001709445253568198 0.9921076163503983\n"
          ]
        }
      ]
    },
    {
      "cell_type": "code",
      "source": [
        "#6. Create a zero array of size 10 and replace 5th element with 1.\n",
        "a = np.zeros(10)\n",
        "a[4] = 1\n",
        "a"
      ],
      "metadata": {
        "colab": {
          "base_uri": "https://localhost:8080/"
        },
        "id": "j2AwT12I2qRW",
        "outputId": "d631eda6-d5e7-4323-f833-e7fa63ece07a"
      },
      "execution_count": null,
      "outputs": [
        {
          "output_type": "execute_result",
          "data": {
            "text/plain": [
              "array([0., 0., 0., 0., 1., 0., 0., 0., 0., 0.])"
            ]
          },
          "metadata": {},
          "execution_count": 75
        }
      ]
    },
    {
      "cell_type": "code",
      "source": [
        "#7. Reverse an array arr = [1,2,0,0,4,0].\n",
        "a = np.array([1,2,3,4])\n",
        "b = a[::-1]\n",
        "b"
      ],
      "metadata": {
        "colab": {
          "base_uri": "https://localhost:8080/"
        },
        "id": "pXXkEkIG3C0j",
        "outputId": "56c80867-cf4c-4d71-825e-f13a21cfb5ad"
      },
      "execution_count": null,
      "outputs": [
        {
          "output_type": "execute_result",
          "data": {
            "text/plain": [
              "array([4, 3, 2, 1])"
            ]
          },
          "metadata": {},
          "execution_count": 77
        }
      ]
    },
    {
      "cell_type": "code",
      "source": [
        "# 8 Create a 2d array with 1 on border and 0 inside.\n",
        "import numpy as np\n",
        "a = np.zeros((6, 6), dtype=int)\n",
        "a[0, :] = 1  # Top border\n",
        "a[-1, :] = 1  # Bottom\n",
        "a[:, 0] = 1  # Left\n",
        "a[:, -1] = 1  #right\n",
        "\n",
        "\n",
        "print(\"2D array with border 1 and inside 0:\")\n",
        "print(a)\n"
      ],
      "metadata": {
        "id": "dHWwqWW63qLm",
        "colab": {
          "base_uri": "https://localhost:8080/"
        },
        "outputId": "562b56af-1fc5-407b-ae0a-aa13b3a30a46"
      },
      "execution_count": null,
      "outputs": [
        {
          "output_type": "stream",
          "name": "stdout",
          "text": [
            "2D array with border 1 and inside 0:\n",
            "[[1 1 1 1 1 1]\n",
            " [1 0 0 0 0 1]\n",
            " [1 0 0 0 0 1]\n",
            " [1 0 0 0 0 1]\n",
            " [1 0 0 0 0 1]\n",
            " [1 1 1 1 1 1]]\n"
          ]
        }
      ]
    },
    {
      "cell_type": "code",
      "source": [
        "\n",
        "#9. Create an 8x8 checkerboard matrix\n",
        "c = np.zeros((8, 8), dtype=int)\n",
        "c[1::2, ::2] = 1  # Odd rows: 1 in even columns\n",
        "c[::2, 1::2] = 1  # Even rows: 1 in odd columns\n",
        "\n",
        "print(c)\n"
      ],
      "metadata": {
        "colab": {
          "base_uri": "https://localhost:8080/"
        },
        "id": "6OUZS7Pssf2V",
        "outputId": "ab47d683-5e92-4db8-fd8a-f06d7167409e"
      },
      "execution_count": null,
      "outputs": [
        {
          "output_type": "stream",
          "name": "stdout",
          "text": [
            "[[0 1 0 1 0 1 0 1]\n",
            " [1 0 1 0 1 0 1 0]\n",
            " [0 1 0 1 0 1 0 1]\n",
            " [1 0 1 0 1 0 1 0]\n",
            " [0 1 0 1 0 1 0 1]\n",
            " [1 0 1 0 1 0 1 0]\n",
            " [0 1 0 1 0 1 0 1]\n",
            " [1 0 1 0 1 0 1 0]]\n"
          ]
        }
      ]
    },
    {
      "cell_type": "code",
      "source": [
        "#Problem - 3: Array Operations:\n",
        "#1. Add the two array.\n",
        "import numpy as np\n",
        "x = np.array([[1, 2], [3, 5]])\n",
        "y = np.array([[5, 6], [7, 8]])\n",
        "add = x + y\n",
        "print(\"Add of x and y:\\n\", add)\n"
      ],
      "metadata": {
        "colab": {
          "base_uri": "https://localhost:8080/"
        },
        "id": "_NWFeKZRxrU3",
        "outputId": "6288c1fe-7668-4799-b531-9309d2483644"
      },
      "execution_count": null,
      "outputs": [
        {
          "output_type": "stream",
          "name": "stdout",
          "text": [
            "Add of x and y:\n",
            " [[ 6  8]\n",
            " [10 13]]\n"
          ]
        }
      ]
    },
    {
      "cell_type": "code",
      "source": [
        "#2.subtract the two array\n",
        "import numpy as np\n",
        "x = np.array([[1, 2], [3, 5]])\n",
        "y = np.array([[5, 6], [7, 8]])\n",
        "sub = x - y\n",
        "print(\"sub of x and y:\\n\", sub)"
      ],
      "metadata": {
        "colab": {
          "base_uri": "https://localhost:8080/"
        },
        "id": "1tvx_Omi0JfX",
        "outputId": "5400a028-2dbd-481e-cafa-38a387fcb1e5"
      },
      "execution_count": null,
      "outputs": [
        {
          "output_type": "stream",
          "name": "stdout",
          "text": [
            "sub of x and y:\n",
            " [[-4 -4]\n",
            " [-4 -3]]\n"
          ]
        }
      ]
    },
    {
      "cell_type": "code",
      "source": [
        "#3. Multiply the array with any integers of your choice.\n",
        "mul = x * 3\n",
        "print(\"Multiplication of x by 3:\\n\", mul)\n",
        "\n"
      ],
      "metadata": {
        "colab": {
          "base_uri": "https://localhost:8080/"
        },
        "id": "vPPFJ47a02Mi",
        "outputId": "78ff6c55-37e2-4a9c-b1f6-71a7c03d23fe"
      },
      "execution_count": null,
      "outputs": [
        {
          "output_type": "stream",
          "name": "stdout",
          "text": [
            "Multiplication of x by 3:\n",
            " [[ 3  6]\n",
            " [ 9 15]]\n"
          ]
        }
      ]
    },
    {
      "cell_type": "code",
      "source": [
        "#4. Find the square of each element of the array.\n",
        "square = x ** 2\n",
        "print(\"Square of each element in x:\\n\", square)\n"
      ],
      "metadata": {
        "colab": {
          "base_uri": "https://localhost:8080/"
        },
        "id": "yGV1s3V7350F",
        "outputId": "dceba428-ce05-4a42-8408-7111bdcea4c0"
      },
      "execution_count": null,
      "outputs": [
        {
          "output_type": "stream",
          "name": "stdout",
          "text": [
            "Square of each element in x:\n",
            " [[ 1  4]\n",
            " [ 9 25]]\n"
          ]
        }
      ]
    },
    {
      "cell_type": "code",
      "source": [
        "#5. Find the dot product between: v(and)w ; x(and)v ; x(and)y.\n",
        "v = np.array([9, 10])\n",
        "w = np.array([11, 12])\n",
        "\n",
        "dot_vw = np.dot(v, w)\n",
        "print(\"Dot product of v and w:\", dot_vw)\n"
      ],
      "metadata": {
        "colab": {
          "base_uri": "https://localhost:8080/"
        },
        "id": "o4BgQkCq3_Ph",
        "outputId": "d2f0bc0b-76e8-4124-c22a-5804422a37ab"
      },
      "execution_count": null,
      "outputs": [
        {
          "output_type": "stream",
          "name": "stdout",
          "text": [
            "Dot product of v and w: 219\n"
          ]
        }
      ]
    },
    {
      "cell_type": "code",
      "source": [
        "#6. Concatenate x(and)y along row and Concatenate v(and)w along column.\n",
        "\n",
        "a = np.array([[1, 2], [3, 4]])\n",
        "b = np.array([[5, 6], [7, 8]])\n",
        "concat_ab = np.concatenate((a, b), axis=0)\n",
        "print(\"Concatenate a and b along rows:\\n\", concat_ab)\n",
        "\n"
      ],
      "metadata": {
        "colab": {
          "base_uri": "https://localhost:8080/"
        },
        "id": "rld7x5Q14KjF",
        "outputId": "4f1b9fd8-5733-42b2-ca68-be23d358e07c"
      },
      "execution_count": null,
      "outputs": [
        {
          "output_type": "stream",
          "name": "stdout",
          "text": [
            "Concatenate a and b along rows:\n",
            " [[1 2]\n",
            " [3 4]\n",
            " [5 6]\n",
            " [7 8]]\n"
          ]
        }
      ]
    },
    {
      "cell_type": "code",
      "source": [
        "#7. Concatenate x(and)v; if you get an error, observe and explain why did you get the error?\n",
        "\n",
        "import numpy as np\n",
        "x = np.array([[1, 2], [3, 5]])\n",
        "v = np.array([9, 10])\n",
        "v_reshaped = v.reshape(1, -1)\n",
        "concat_xv = np.concatenate((x, v_reshaped), axis=0)\n",
        "print(\"Concatenated x and v:\\n\", concat_xv)\n"
      ],
      "metadata": {
        "colab": {
          "base_uri": "https://localhost:8080/"
        },
        "id": "VDCt5ABs5LRL",
        "outputId": "ad651905-68d2-43cc-a481-28dbbf5ccde6"
      },
      "execution_count": null,
      "outputs": [
        {
          "output_type": "stream",
          "name": "stdout",
          "text": [
            "Concatenated x and v:\n",
            " [[ 1  2]\n",
            " [ 3  5]\n",
            " [ 9 10]]\n"
          ]
        }
      ]
    },
    {
      "cell_type": "markdown",
      "source": [
        "The error occurs because x is a 2D array with two columns, while v is a 1D array with no explicit column dimension.\n",
        "Concatenation along axis=0 (row-wise) requires all arrays to have the same number of columns, which is not satisfied here"
      ],
      "metadata": {
        "id": "KfaDlV1A5pOl"
      }
    },
    {
      "cell_type": "markdown",
      "source": [
        "#Problem - 4: Matrix Operations:\n",
        "For the following arrays:\n",
        "A = np.array([[3,4],[7,8]]) and B = np.array([[5,3],[2,1]]);\n",
        "Prove following with Numpy:\n",
        "1. Prove A.A−1 = I.\n",
        "2. Prove AB ̸= BA.\n",
        "3. Prove (AB)\n",
        "\n",
        "T = BTAT\n",
        ".\n",
        "\n",
        "• Solve the following system of Linear equation using Inverse Methods.\n",
        "\n",
        "2x − 3y + z = −1\n",
        "x − y + 2z = −3\n",
        "3x + y − z = 9\n",
        "\n",
        "{Hint: First use Numpy array to represent the equation in Matrix form. Then Solve for: AX = B}\n",
        "• Now: solve the above equation using np.linalg.inv function.{Explore more about ”linalg” function\n",
        "of Numpy}"
      ],
      "metadata": {
        "id": "Y_xBjxEU_GFU"
      }
    },
    {
      "cell_type": "code",
      "source": [
        "import numpy as np\n",
        "A = np.array([[3, 4], [7, 8]])\n",
        "\n",
        "A_inv = np.linalg.inv(A)  # Calculate the inverse of A\n",
        "I = np.dot(A, A_inv)    # Multiply A by its inverse\n",
        "print(\"A * A⁻¹ =\\n\", I)\n"
      ],
      "metadata": {
        "colab": {
          "base_uri": "https://localhost:8080/"
        },
        "id": "8zYRlyhq_Hs8",
        "outputId": "5ffd3726-320f-405b-ca8b-1b32d6cd2446"
      },
      "execution_count": null,
      "outputs": [
        {
          "output_type": "stream",
          "name": "stdout",
          "text": [
            "A * A⁻¹ =\n",
            " [[1.00000000e+00 0.00000000e+00]\n",
            " [1.77635684e-15 1.00000000e+00]]\n"
          ]
        }
      ]
    },
    {
      "cell_type": "code",
      "source": [
        "import numpy as np\n",
        "\n",
        "# Define matrix A and matrix B\n",
        "A = np.array([[3, 4], [7, 8]])\n",
        "B = np.array([[5, 3], [2, 1]])\n",
        "\n",
        "# Matrix multiplication AB\n",
        "AB = np.dot(A, B)\n",
        "\n",
        "# Matrix multiplication BA\n",
        "BA = np.dot(B, A)\n",
        "\n",
        "# Print the results\n",
        "print(\"AB =\\n\", AB)\n",
        "print(\"BA =\\n\", BA)\n"
      ],
      "metadata": {
        "colab": {
          "base_uri": "https://localhost:8080/"
        },
        "id": "pv4DeLd2_xOa",
        "outputId": "8c8c7ac0-b64a-47b4-b64b-522ba3b22e3e"
      },
      "execution_count": null,
      "outputs": [
        {
          "output_type": "stream",
          "name": "stdout",
          "text": [
            "AB =\n",
            " [[23 13]\n",
            " [51 29]]\n",
            "BA =\n",
            " [[36 44]\n",
            " [13 16]]\n"
          ]
        }
      ]
    },
    {
      "cell_type": "code",
      "source": [
        "import numpy as np\n",
        "\n",
        "# Define matrix A and matrix B\n",
        "A = np.array([[3, 4], [7, 8]])\n",
        "B = np.array([[5, 3], [2, 1]])\n",
        "\n",
        "# Matrix multiplication AB\n",
        "AB = np.dot(A, B)\n",
        "\n",
        "# Transpose of AB\n",
        "AB_T = np.transpose(AB)\n",
        "\n",
        "# Compute Bᵀ * Aᵀ\n",
        "B_T_A_T = np.dot(np.transpose(B), np.transpose(A))\n",
        "\n",
        "# Print the results\n",
        "print(\"(AB)ᵀ =\\n\", AB_T)\n",
        "print(\"Bᵀ * Aᵀ =\\n\", B_T_A_T)\n"
      ],
      "metadata": {
        "colab": {
          "base_uri": "https://localhost:8080/"
        },
        "id": "q3USszcZABPz",
        "outputId": "e778e3ac-2934-493a-cfb6-78c903d274b4"
      },
      "execution_count": null,
      "outputs": [
        {
          "output_type": "stream",
          "name": "stdout",
          "text": [
            "(AB)ᵀ =\n",
            " [[23 51]\n",
            " [13 29]]\n",
            "Bᵀ * Aᵀ =\n",
            " [[23 51]\n",
            " [13 29]]\n"
          ]
        }
      ]
    },
    {
      "cell_type": "code",
      "source": [
        "# Define matrix A and vector B\n",
        "A = np.array([[2, -3, 1], [1, -1, 2], [3, 1, -1]])\n",
        "B = np.array([-1, -3, 9])\n",
        "\n",
        "# Solve for X using np.linalg.inv (Inverse Method)\n",
        "X = np.dot(np.linalg.inv(A), B)\n",
        "\n",
        "print(\"Solution for X (x, y, z):\", X)\n"
      ],
      "metadata": {
        "colab": {
          "base_uri": "https://localhost:8080/"
        },
        "id": "mPUCfeVAARpw",
        "outputId": "4204f3d9-3995-432d-a4cc-67e97f2fbf8f"
      },
      "execution_count": null,
      "outputs": [
        {
          "output_type": "stream",
          "name": "stdout",
          "text": [
            "Solution for X (x, y, z): [ 2.  1. -2.]\n"
          ]
        }
      ]
    },
    {
      "cell_type": "code",
      "source": [
        "# Solve for X using np.linalg.solve (alternative method)\n",
        "X_solve = np.linalg.solve(A, B)\n",
        "\n",
        "print(\"Solution using np.linalg.solve:\", X_solve)\n"
      ],
      "metadata": {
        "colab": {
          "base_uri": "https://localhost:8080/"
        },
        "id": "omQtR2FCAXEz",
        "outputId": "42598da1-37fc-4281-9a54-071b129beda0"
      },
      "execution_count": null,
      "outputs": [
        {
          "output_type": "stream",
          "name": "stdout",
          "text": [
            "Solution using np.linalg.solve: [ 2.  1. -2.]\n"
          ]
        }
      ]
    },
    {
      "cell_type": "code",
      "source": [],
      "metadata": {
        "id": "_dVYWDcrBAXu"
      },
      "execution_count": null,
      "outputs": []
    }
  ]
}